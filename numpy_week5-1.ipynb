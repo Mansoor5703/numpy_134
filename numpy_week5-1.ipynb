{
 "cells": [
  {
   "cell_type": "code",
   "execution_count": null,
   "id": "8aefba62-fe9f-4614-8b84-dcd21aac8db2",
   "metadata": {},
   "outputs": [],
   "source": [
    "1. Getting Familiar with NumPy"
   ]
  },
  {
   "cell_type": "code",
   "execution_count": 15,
   "id": "1b854b14-1027-4208-b30a-e70ff95dc1c2",
   "metadata": {},
   "outputs": [
    {
     "name": "stdout",
     "output_type": "stream",
     "text": [
      "1D Array:\n",
      "[1 2 3 4 5]\n",
      "\n",
      "2D Array:\n",
      "[[1 2 3]\n",
      " [4 5 6]]\n",
      "\n",
      "Array after adding 10 to each element:\n",
      "[11 12 13 14 15]\n",
      "\n",
      "Array after multiplying each element by 2:\n",
      "[[ 2  4  6]\n",
      " [ 8 10 12]]\n",
      "\n",
      "Array Properties:\n",
      "Shape of array_2d: (2, 3)\n",
      "Size of array_2d: 6\n",
      "Data type of array_2d: int64\n"
     ]
    }
   ],
   "source": [
    "import numpy as np\n",
    "\n",
    "# Creating and displaying arrays\n",
    "array_1d = np.array([1, 2, 3, 4, 5])\n",
    "array_2d = np.array([[1, 2, 3], [4, 5, 6]])\n",
    "\n",
    "print(\"1D Array:\")\n",
    "print(array_1d)\n",
    "\n",
    "print(\"\\n2D Array:\")\n",
    "print(array_2d)\n",
    "\n",
    "# Performing basic operations\n",
    "array_sum = array_1d + 10\n",
    "array_product = array_2d * 2\n",
    "\n",
    "print(\"\\nArray after adding 10 to each element:\")\n",
    "print(array_sum)\n",
    "\n",
    "print(\"\\nArray after multiplying each element by 2:\")\n",
    "print(array_product)\n",
    "\n",
    "# Displaying array properties\n",
    "print(\"\\nArray Properties:\")\n",
    "print(f\"Shape of array_2d: {array_2d.shape}\")\n",
    "print(f\"Size of array_2d: {array_2d.size}\")\n",
    "print(f\"Data type of array_2d: {array_2d.dtype}\")\n"
   ]
  },
  {
   "cell_type": "code",
   "execution_count": null,
   "id": "c24d5a28-95f9-4f71-908a-c23a68043551",
   "metadata": {},
   "outputs": [],
   "source": [
    "2. Data Manipulation with NumPy"
   ]
  },
  {
   "cell_type": "code",
   "execution_count": 16,
   "id": "1102c24d-c29c-4b4d-9b73-e3bbdbc479f7",
   "metadata": {},
   "outputs": [
    {
     "name": "stdout",
     "output_type": "stream",
     "text": [
      "\n",
      "Array created with arange:\n",
      "[0 1 2 3 4 5 6 7 8 9]\n",
      "\n",
      "Element at index 5:\n",
      "5\n",
      "\n",
      "Sliced array (elements from index 2 to 5):\n",
      "[2 3 4 5]\n",
      "\n",
      "Reshaped array (2x5):\n",
      "[[0 1 2 3 4]\n",
      " [5 6 7 8 9]]\n",
      "\n",
      "Array after squaring each element:\n",
      "[ 0  1  4  9 16 25 36 49 64 81]\n",
      "\n",
      "Square root of each element in the array:\n",
      "[0.         1.         1.41421356 1.73205081 2.         2.23606798\n",
      " 2.44948974 2.64575131 2.82842712 3.        ]\n"
     ]
    }
   ],
   "source": [
    "# Array creation and manipulation\n",
    "array = np.arange(10)\n",
    "\n",
    "print(\"\\nArray created with arange:\")\n",
    "print(array)\n",
    "\n",
    "# Indexing and slicing\n",
    "print(\"\\nElement at index 5:\")\n",
    "print(array[5])\n",
    "\n",
    "print(\"\\nSliced array (elements from index 2 to 5):\")\n",
    "print(array[2:6])\n",
    "\n",
    "# Reshaping arrays\n",
    "array_reshaped = array.reshape((2, 5))\n",
    "\n",
    "print(\"\\nReshaped array (2x5):\")\n",
    "print(array_reshaped)\n",
    "\n",
    "# Applying mathematical operations\n",
    "array_squared = np.square(array)\n",
    "array_sqrt = np.sqrt(array)\n",
    "\n",
    "print(\"\\nArray after squaring each element:\")\n",
    "print(array_squared)\n",
    "\n",
    "print(\"\\nSquare root of each element in the array:\")\n",
    "print(array_sqrt)\n"
   ]
  },
  {
   "cell_type": "code",
   "execution_count": null,
   "id": "b20f2998-dd9b-4e81-bee0-0ad4e9c2a082",
   "metadata": {},
   "outputs": [],
   "source": [
    "3. Data Aggregation"
   ]
  },
  {
   "cell_type": "code",
   "execution_count": 17,
   "id": "b4ff5b76-29af-4783-a98b-fbe736a51872",
   "metadata": {},
   "outputs": [
    {
     "name": "stdout",
     "output_type": "stream",
     "text": [
      "\n",
      "Data Array:\n",
      "[[10 20 30]\n",
      " [40 50 60]\n",
      " [70 80 90]]\n",
      "\n",
      "Summary Statistics:\n",
      "Mean: 50.0\n",
      "Median: 50.0\n",
      "Standard Deviation: 25.81988897471611\n",
      "Sum: 450\n",
      "\n",
      "Elements Above Mean:\n",
      "[60 70 80 90]\n"
     ]
    }
   ],
   "source": [
    "# Creating a 2D array for aggregation\n",
    "data = np.array([[10, 20, 30], [40, 50, 60], [70, 80, 90]])\n",
    "\n",
    "print(\"\\nData Array:\")\n",
    "print(data)\n",
    "\n",
    "# Computing summary statistics\n",
    "mean = np.mean(data)\n",
    "median = np.median(data)\n",
    "std_dev = np.std(data)\n",
    "total_sum = np.sum(data)\n",
    "\n",
    "print(\"\\nSummary Statistics:\")\n",
    "print(f\"Mean: {mean}\")\n",
    "print(f\"Median: {median}\")\n",
    "print(f\"Standard Deviation: {std_dev}\")\n",
    "print(f\"Sum: {total_sum}\")\n",
    "\n",
    "# Filtering data\n",
    "above_mean = data[data > mean]\n",
    "\n",
    "print(\"\\nElements Above Mean:\")\n",
    "print(above_mean)\n"
   ]
  },
  {
   "cell_type": "code",
   "execution_count": null,
   "id": "4b84e8dc-0b47-4df0-9e83-4a2f7a82b84a",
   "metadata": {},
   "outputs": [],
   "source": [
    "4. Data Analysis"
   ]
  },
  {
   "cell_type": "code",
   "execution_count": 18,
   "id": "6cc15a69-e117-40a0-bb5c-10f49fec800e",
   "metadata": {},
   "outputs": [
    {
     "name": "stdout",
     "output_type": "stream",
     "text": [
      "\n",
      "Correlation Coefficient between x and y:\n",
      "[[1. 1.]\n",
      " [1. 1.]]\n",
      "\n",
      "Z-Scores of the Data (Detect Outliers):\n",
      "[-0.6129475  -0.54537848 -0.44402496 -0.34267144 -0.27510242 -0.2075334\n",
      "  2.4276582 ]\n",
      "\n",
      "Outliers in the Data:\n",
      "[100]\n",
      "\n",
      "Percentiles of the Data:\n",
      "25th Percentile: 13.5\n",
      "50th Percentile (Median): 18.0\n",
      "75th Percentile: 21.0\n"
     ]
    }
   ],
   "source": [
    "# Correlation example\n",
    "x = np.array([1, 2, 3, 4, 5])\n",
    "y = np.array([2, 4, 6, 8, 10])\n",
    "\n",
    "correlation = np.corrcoef(x, y)\n",
    "\n",
    "print(\"\\nCorrelation Coefficient between x and y:\")\n",
    "print(correlation)\n",
    "\n",
    "# Identifying outliers using Z-scores\n",
    "data_with_outliers = np.array([10, 12, 15, 18, 20, 22, 100])\n",
    "mean_data = np.mean(data_with_outliers)\n",
    "std_dev_data = np.std(data_with_outliers)\n",
    "z_scores = (data_with_outliers - mean_data) / std_dev_data\n",
    "\n",
    "print(\"\\nZ-Scores of the Data (Detect Outliers):\")\n",
    "print(z_scores)\n",
    "\n",
    "outliers = data_with_outliers[np.abs(z_scores) > 2]\n",
    "\n",
    "print(\"\\nOutliers in the Data:\")\n",
    "print(outliers)\n",
    "\n",
    "# Calculating percentiles\n",
    "percentile_25 = np.percentile(data_with_outliers, 25)\n",
    "percentile_50 = np.percentile(data_with_outliers, 50)\n",
    "percentile_75 = np.percentile(data_with_outliers, 75)\n",
    "\n",
    "print(\"\\nPercentiles of the Data:\")\n",
    "print(f\"25th Percentile: {percentile_25}\")\n",
    "print(f\"50th Percentile (Median): {percentile_50}\")\n",
    "print(f\"75th Percentile: {percentile_75}\")\n"
   ]
  },
  {
   "cell_type": "code",
   "execution_count": null,
   "id": "3cbeb4b4-2fbb-43c0-9f71-f6891825fe48",
   "metadata": {},
   "outputs": [],
   "source": [
    "Application in Data Science\n",
    "Advantages of Using NumPy:\n",
    "\n",
    "Performance: Realization of operations with a large array of elements.\n",
    "Ease of Use: Helps to solve complicated mathematical problems.\n",
    "Integration: Compliments other libraries such as Pandas, Scikit-Learn, and SciPy.\n",
    "Handling Large Datasets: Designed for handling very large data sets.\n",
    "undefined\n",
    "\n",
    "Machine Learning: Used for mathematical computations and matrix calculations.\n",
    "Financial Analysis: For carrying out calculation of indicators and modeling of data.\n",
    "Scientific Research: For simulations and permutations and combinations of questions in mathematics.\n",
    "undefined\n",
    "NumPy is the fundamental package in Python for high-performance numerical computation. It allows creating arrays, solving mathematical, summing and grouping problems, and doing statistical calculations, which makes it extremely useful for data scientists who work with large amount of data and complex calculations."
   ]
  }
 ],
 "metadata": {
  "kernelspec": {
   "display_name": "Python 3 (ipykernel)",
   "language": "python",
   "name": "python3"
  },
  "language_info": {
   "codemirror_mode": {
    "name": "ipython",
    "version": 3
   },
   "file_extension": ".py",
   "mimetype": "text/x-python",
   "name": "python",
   "nbconvert_exporter": "python",
   "pygments_lexer": "ipython3",
   "version": "3.12.6"
  }
 },
 "nbformat": 4,
 "nbformat_minor": 5
}
